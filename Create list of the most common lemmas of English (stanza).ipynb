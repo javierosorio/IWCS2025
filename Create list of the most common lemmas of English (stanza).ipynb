{
 "cells": [
  {
   "cell_type": "markdown",
   "id": "567199f8-13a7-4cfc-9ca2-8405dc36b0db",
   "metadata": {},
   "source": [
    "# PREPROCESSING DATA FROM DATASET THAT CONTAINS THE TRANSLATED SENTENCES"
   ]
  },
  {
   "cell_type": "code",
   "execution_count": 42,
   "id": "f486cd18-4abd-46ac-b27a-6216ee1860d5",
   "metadata": {},
   "outputs": [
    {
     "data": {
      "text/plain": [
       "'\\nThis will prepare these resource:\\n\"The list of the most common words of English\" [useful for the \"rare\" feature]\\nCredits for the original non-filtered list to:\\n'"
      ]
     },
     "execution_count": 42,
     "metadata": {},
     "output_type": "execute_result"
    }
   ],
   "source": [
    "\"\"\"\n",
    "Compiled: Brikena Liko\n",
    "Date: May 8, 2025\n",
    "This script will prepare this resource:\n",
    "\"The list of the most common words of English\", which is useful to anotate the \"rare\" feature\n",
    "Credits for the original non-filtered list to: Rachael Tatman, dataset downloaded from https://www.kaggle.com/datasets/rtatman/english-word-frequency\"\n",
    "The dataset contains the counts of the 333,333 most commonly-used single words on the English language web, as derived from the Google Web Trillion Word Corpus\n",
    "Because it is a list of unique words, but we are operating at the lemma level, with this script we will:\n",
    "- lemmatize the list,\n",
    "- remove lemmas dublicates\n",
    "- summ up the count of same lemmas\n",
    "- calculate the \"times per million\"\n",
    "- keep the non-rare band frequency as described in the paper & instructions\n",
    "\"\"\""
   ]
  },
  {
   "cell_type": "code",
   "execution_count": 15,
   "id": "ae23db89-1bef-4063-a643-785d088d9fdf",
   "metadata": {},
   "outputs": [],
   "source": [
    "# !pip install stanza\n",
    "# !pip install stanza pandas openpyxl"
   ]
  },
  {
   "cell_type": "code",
   "execution_count": 6,
   "id": "2b6b6e35-5a13-48e8-98dc-ce91caa1db83",
   "metadata": {},
   "outputs": [],
   "source": [
    "import stanza\n",
    "import re\n",
    "import pandas as pd\n",
    "import numpy as np"
   ]
  },
  {
   "cell_type": "code",
   "execution_count": 11,
   "id": "12d8d4e4-6f0f-4079-b97f-8306c0c45632",
   "metadata": {
    "scrolled": true
   },
   "outputs": [],
   "source": [
    "#download the English model if not already installed\n",
    "stanza.download('en')\n",
    "#load the Stanza NLP pipeline\n",
    "nlp = stanza.Pipeline(lang='en', processors=\"tokenize,lemma\")\n"
   ]
  },
  {
   "cell_type": "markdown",
   "id": "8bf47fe0-1321-4177-ae78-eb3f8bbcaa9d",
   "metadata": {},
   "source": [
    "### Download the file from the following link, save in the same folder as script or change the file path when necessary\n",
    "https://www.kaggle.com/datasets/rtatman/english-word-frequency?resource=download ="
   ]
  },
  {
   "cell_type": "code",
   "execution_count": 19,
   "id": "94a83858-342e-43d6-9761-077495324fd2",
   "metadata": {},
   "outputs": [
    {
     "name": "stdout",
     "output_type": "stream",
     "text": [
      "file saved: unigram_freq_lemmatized.csv\n"
     ]
    }
   ],
   "source": [
    "# 1.read the table\n",
    "df = pd.read_csv(\"unigram_freq.csv\", dtype={\"word\": str, \"count\": int})\n",
    "\n",
    "# 2.turn every word into its lemma\n",
    "def to_lemma(w):\n",
    "    if pd.isna(w) or w == \"\":\n",
    "        return \"\"\n",
    "    doc = nlp(w)\n",
    "    return doc.sentences[0].words[0].lemma\n",
    "\n",
    "df[\"lemma\"] = df[\"word\"].apply(to_lemma)\n",
    "\n",
    "# 3.write the full table\n",
    "df.to_csv(\"unigram_freq_lemmatized.csv\", index=False)"
   ]
  },
  {
   "cell_type": "code",
   "execution_count": 22,
   "id": "fd196ce8-0841-4301-9908-158f3c073414",
   "metadata": {},
   "outputs": [],
   "source": [
    "#check the data:\n",
    "df_copy = pd.read_csv('unigram_freq_lemmatized.csv')"
   ]
  },
  {
   "cell_type": "code",
   "execution_count": 23,
   "id": "6f7347aa-6dda-44f7-b2e3-d528c267da04",
   "metadata": {},
   "outputs": [
    {
     "data": {
      "text/html": [
       "<div>\n",
       "<style scoped>\n",
       "    .dataframe tbody tr th:only-of-type {\n",
       "        vertical-align: middle;\n",
       "    }\n",
       "\n",
       "    .dataframe tbody tr th {\n",
       "        vertical-align: top;\n",
       "    }\n",
       "\n",
       "    .dataframe thead th {\n",
       "        text-align: right;\n",
       "    }\n",
       "</style>\n",
       "<table border=\"1\" class=\"dataframe\">\n",
       "  <thead>\n",
       "    <tr style=\"text-align: right;\">\n",
       "      <th></th>\n",
       "      <th>word</th>\n",
       "      <th>count</th>\n",
       "      <th>lemma</th>\n",
       "    </tr>\n",
       "  </thead>\n",
       "  <tbody>\n",
       "    <tr>\n",
       "      <th>0</th>\n",
       "      <td>the</td>\n",
       "      <td>1661014682</td>\n",
       "      <td>the</td>\n",
       "    </tr>\n",
       "    <tr>\n",
       "      <th>1</th>\n",
       "      <td>of</td>\n",
       "      <td>267040888</td>\n",
       "      <td>of</td>\n",
       "    </tr>\n",
       "    <tr>\n",
       "      <th>2</th>\n",
       "      <td>and</td>\n",
       "      <td>112736078</td>\n",
       "      <td>and</td>\n",
       "    </tr>\n",
       "    <tr>\n",
       "      <th>3</th>\n",
       "      <td>to</td>\n",
       "      <td>-747921030</td>\n",
       "      <td>to</td>\n",
       "    </tr>\n",
       "    <tr>\n",
       "      <th>4</th>\n",
       "      <td>a</td>\n",
       "      <td>491240106</td>\n",
       "      <td>a</td>\n",
       "    </tr>\n",
       "  </tbody>\n",
       "</table>\n",
       "</div>"
      ],
      "text/plain": [
       "  word       count lemma\n",
       "0  the  1661014682   the\n",
       "1   of   267040888    of\n",
       "2  and   112736078   and\n",
       "3   to  -747921030    to\n",
       "4    a   491240106     a"
      ]
     },
     "execution_count": 23,
     "metadata": {},
     "output_type": "execute_result"
    }
   ],
   "source": [
    "df = df_copy\n",
    "df.head(5)"
   ]
  },
  {
   "cell_type": "code",
   "execution_count": 24,
   "id": "a961b17a-5f94-490e-a45f-2dc7e7447910",
   "metadata": {},
   "outputs": [],
   "source": [
    "#create two new columns with unique lemmas (removing duplicates) and adding up their counts\n",
    "#group by 'lemma', sum the counts\n",
    "if \"count of unique lemmas\" not in df.columns:\n",
    "    df[\"count of unique lemmas\"] = df.groupby(\"lemma\")[\"count\"].transform(\"sum\")\n",
    "\n",
    "#keep the first row for every lemma and delete the rest\n",
    "df.drop_duplicates(subset=\"lemma\", keep=\"first\", inplace=True)\n",
    "\n",
    "# update the rate that uses the summed count\n",
    "df[\"times per million\"] = (df[\"count of unique lemmas\"] * 1_000_000 / 1_000_000_000_000).round(2)\n",
    "\n",
    "#tidy up the index\n",
    "df.reset_index(drop=True, inplace=True)\n"
   ]
  },
  {
   "cell_type": "code",
   "execution_count": 28,
   "id": "59b25084-22fc-44fb-95c2-4fdac57647e2",
   "metadata": {},
   "outputs": [
    {
     "data": {
      "text/html": [
       "<div>\n",
       "<style scoped>\n",
       "    .dataframe tbody tr th:only-of-type {\n",
       "        vertical-align: middle;\n",
       "    }\n",
       "\n",
       "    .dataframe tbody tr th {\n",
       "        vertical-align: top;\n",
       "    }\n",
       "\n",
       "    .dataframe thead th {\n",
       "        text-align: right;\n",
       "    }\n",
       "</style>\n",
       "<table border=\"1\" class=\"dataframe\">\n",
       "  <thead>\n",
       "    <tr style=\"text-align: right;\">\n",
       "      <th></th>\n",
       "      <th>word</th>\n",
       "      <th>count</th>\n",
       "      <th>lemma</th>\n",
       "      <th>count of unique lemmas</th>\n",
       "      <th>times per million</th>\n",
       "    </tr>\n",
       "  </thead>\n",
       "  <tbody>\n",
       "    <tr>\n",
       "      <th>0</th>\n",
       "      <td>the</td>\n",
       "      <td>1661014682</td>\n",
       "      <td>the</td>\n",
       "      <td>1.703131e+09</td>\n",
       "      <td>1703.13</td>\n",
       "    </tr>\n",
       "    <tr>\n",
       "      <th>1</th>\n",
       "      <td>of</td>\n",
       "      <td>267040888</td>\n",
       "      <td>of</td>\n",
       "      <td>5.194060e+08</td>\n",
       "      <td>519.41</td>\n",
       "    </tr>\n",
       "    <tr>\n",
       "      <th>2</th>\n",
       "      <td>and</td>\n",
       "      <td>112736078</td>\n",
       "      <td>and</td>\n",
       "      <td>5.540612e+08</td>\n",
       "      <td>554.06</td>\n",
       "    </tr>\n",
       "  </tbody>\n",
       "</table>\n",
       "</div>"
      ],
      "text/plain": [
       "  word       count lemma  count of unique lemmas  times per million\n",
       "0  the  1661014682   the            1.703131e+09            1703.13\n",
       "1   of   267040888    of            5.194060e+08             519.41\n",
       "2  and   112736078   and            5.540612e+08             554.06"
      ]
     },
     "execution_count": 28,
     "metadata": {},
     "output_type": "execute_result"
    }
   ],
   "source": [
    "df.head(3)"
   ]
  },
  {
   "cell_type": "code",
   "execution_count": 29,
   "id": "de00fce9-70fa-4fd9-8cff-ab928e762d47",
   "metadata": {},
   "outputs": [
    {
     "data": {
      "text/plain": [
       "3558    27.33\n",
       "Name: times per million, dtype: float64"
      ]
     },
     "execution_count": 29,
     "metadata": {},
     "output_type": "execute_result"
    }
   ],
   "source": [
    "#test \n",
    "df.loc[df[\"lemma\"] == \"verify\", \"times per million\"]"
   ]
  },
  {
   "cell_type": "code",
   "execution_count": 30,
   "id": "935a93a2-9269-401e-9e94-319345377a5f",
   "metadata": {},
   "outputs": [],
   "source": [
    "#this will create the final list that will store only the common words of English with a frequency higher than 0.1 times per million\n",
    "#We'll use this classification in bands: https://www.oed.com/information/understanding-entries/frequency?tl=true\n",
    "#cut-off\n",
    "#keep lemmas with frequency > 0.1 per million\n",
    "\n",
    "df_most_common_english_lemmas = (df.loc[np.floor(df[\"times per million\"] * 10) / 10 > 0.1,[\"lemma\", \"times per million\"]].copy().reset_index(drop=True))"
   ]
  },
  {
   "cell_type": "code",
   "execution_count": 31,
   "id": "93ed11fa-e321-4dd1-a41e-e483f9462e0b",
   "metadata": {},
   "outputs": [],
   "source": [
    "df_most_common_english_lemmas.to_excel('Most common English lemmas.xlsx', index=False)"
   ]
  },
  {
   "cell_type": "code",
   "execution_count": 32,
   "id": "e7d0a5bf-9542-4fbc-a889-72758b631cb0",
   "metadata": {},
   "outputs": [
    {
     "data": {
      "text/html": [
       "<div>\n",
       "<style scoped>\n",
       "    .dataframe tbody tr th:only-of-type {\n",
       "        vertical-align: middle;\n",
       "    }\n",
       "\n",
       "    .dataframe tbody tr th {\n",
       "        vertical-align: top;\n",
       "    }\n",
       "\n",
       "    .dataframe thead th {\n",
       "        text-align: right;\n",
       "    }\n",
       "</style>\n",
       "<table border=\"1\" class=\"dataframe\">\n",
       "  <thead>\n",
       "    <tr style=\"text-align: right;\">\n",
       "      <th></th>\n",
       "      <th>lemma</th>\n",
       "      <th>times per million</th>\n",
       "    </tr>\n",
       "  </thead>\n",
       "  <tbody>\n",
       "    <tr>\n",
       "      <th>0</th>\n",
       "      <td>the</td>\n",
       "      <td>1703.13</td>\n",
       "    </tr>\n",
       "    <tr>\n",
       "      <th>1</th>\n",
       "      <td>of</td>\n",
       "      <td>519.41</td>\n",
       "    </tr>\n",
       "  </tbody>\n",
       "</table>\n",
       "</div>"
      ],
      "text/plain": [
       "  lemma  times per million\n",
       "0   the            1703.13\n",
       "1    of             519.41"
      ]
     },
     "execution_count": 32,
     "metadata": {},
     "output_type": "execute_result"
    }
   ],
   "source": [
    "df_most_common_english_lemmas.head(2)"
   ]
  },
  {
   "cell_type": "code",
   "execution_count": 33,
   "id": "4e0bac2e-24fa-437e-b848-8268e1590e1c",
   "metadata": {},
   "outputs": [
    {
     "data": {
      "text/plain": [
       "58746"
      ]
     },
     "execution_count": 33,
     "metadata": {},
     "output_type": "execute_result"
    }
   ],
   "source": [
    "len(df_most_common_english_lemmas)"
   ]
  },
  {
   "cell_type": "code",
   "execution_count": null,
   "id": "31d67841-0785-4c96-8b80-49a2ff702f10",
   "metadata": {},
   "outputs": [],
   "source": []
  }
 ],
 "metadata": {
  "kernelspec": {
   "display_name": "Python 3 (ipykernel)",
   "language": "python",
   "name": "python3"
  },
  "language_info": {
   "codemirror_mode": {
    "name": "ipython",
    "version": 3
   },
   "file_extension": ".py",
   "mimetype": "text/x-python",
   "name": "python",
   "nbconvert_exporter": "python",
   "pygments_lexer": "ipython3",
   "version": "3.12.7"
  }
 },
 "nbformat": 4,
 "nbformat_minor": 5
}
